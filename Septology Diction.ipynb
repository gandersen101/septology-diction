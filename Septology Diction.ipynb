{
 "cells": [
  {
   "cell_type": "code",
   "execution_count": 6,
   "id": "9990e2a7",
   "metadata": {
    "ExecuteTime": {
     "end_time": "2022-01-04T01:21:35.474634Z",
     "start_time": "2022-01-04T01:21:35.471875Z"
    }
   },
   "outputs": [],
   "source": [
    "from collections import Counter\n",
    "\n",
    "import pandas as pd\n",
    "import spacy"
   ]
  },
  {
   "cell_type": "code",
   "execution_count": 3,
   "id": "6455c458",
   "metadata": {
    "ExecuteTime": {
     "end_time": "2022-01-04T01:17:48.728517Z",
     "start_time": "2022-01-04T01:17:48.240155Z"
    }
   },
   "outputs": [],
   "source": [
    "nlp = spacy.load(\"en_core_web_sm\")\n",
    "nlp.disable_pipe(\"ner\")\n",
    "nlp.max_length = 10_000_000"
   ]
  },
  {
   "cell_type": "markdown",
   "id": "ee5ba72b",
   "metadata": {},
   "source": [
    "# Septology: Jon Fosse"
   ]
  },
  {
   "cell_type": "markdown",
   "id": "cb020eeb",
   "metadata": {},
   "source": [
    "## Raw Word Counts"
   ]
  },
  {
   "cell_type": "code",
   "execution_count": 4,
   "id": "e77b64ba",
   "metadata": {
    "ExecuteTime": {
     "end_time": "2022-01-04T01:17:49.555045Z",
     "start_time": "2022-01-04T01:17:49.506280Z"
    }
   },
   "outputs": [],
   "source": [
    "with open(\"./input/Septology.txt\", \"r\", encoding=\"utf-8\") as f:\n",
    "    septology = f.read()\n",
    "    septology = \" \".join(septology.split())"
   ]
  },
  {
   "cell_type": "code",
   "execution_count": 7,
   "id": "3c0fb2c3",
   "metadata": {
    "ExecuteTime": {
     "end_time": "2022-01-04T01:24:42.477954Z",
     "start_time": "2022-01-04T01:21:39.655498Z"
    }
   },
   "outputs": [],
   "source": [
    "septology_doc = nlp(septology)\n",
    "septology_words = [token.text for token in septology_doc if not token.is_punct]\n",
    "septology_word_freq = Counter(septology_words)"
   ]
  },
  {
   "cell_type": "code",
   "execution_count": 8,
   "id": "3cd3f1f9",
   "metadata": {
    "ExecuteTime": {
     "end_time": "2022-01-04T01:24:50.181778Z",
     "start_time": "2022-01-04T01:24:50.148159Z"
    }
   },
   "outputs": [],
   "source": [
    "septology_df = pd.DataFrame.from_dict(septology_word_freq, orient=\"index\").reset_index()\n",
    "septology_df.columns = [\"word\", \"count\"]\n",
    "septology_df = septology_df.sort_values(\"count\", ascending=False).reset_index(drop=True)\n",
    "septology_df.to_csv(\"./output/septology_words.csv\", index=False)"
   ]
  },
  {
   "cell_type": "markdown",
   "id": "2a13fd16",
   "metadata": {},
   "source": [
    "### Total Unique Words"
   ]
  },
  {
   "cell_type": "code",
   "execution_count": 26,
   "id": "0e697a4a",
   "metadata": {
    "ExecuteTime": {
     "end_time": "2022-01-04T01:35:20.529480Z",
     "start_time": "2022-01-04T01:35:20.525468Z"
    }
   },
   "outputs": [
    {
     "data": {
      "text/plain": [
       "6605"
      ]
     },
     "execution_count": 26,
     "metadata": {},
     "output_type": "execute_result"
    }
   ],
   "source": [
    "septology_df.shape[0]"
   ]
  },
  {
   "cell_type": "markdown",
   "id": "687424d4",
   "metadata": {},
   "source": [
    "### Top 10 Unique Words"
   ]
  },
  {
   "cell_type": "code",
   "execution_count": 9,
   "id": "043ea619",
   "metadata": {
    "ExecuteTime": {
     "end_time": "2022-01-04T01:24:52.831084Z",
     "start_time": "2022-01-04T01:24:52.817355Z"
    }
   },
   "outputs": [
    {
     "data": {
      "text/html": [
       "<div>\n",
       "<style scoped>\n",
       "    .dataframe tbody tr th:only-of-type {\n",
       "        vertical-align: middle;\n",
       "    }\n",
       "\n",
       "    .dataframe tbody tr th {\n",
       "        vertical-align: top;\n",
       "    }\n",
       "\n",
       "    .dataframe thead th {\n",
       "        text-align: right;\n",
       "    }\n",
       "</style>\n",
       "<table border=\"1\" class=\"dataframe\">\n",
       "  <thead>\n",
       "    <tr style=\"text-align: right;\">\n",
       "      <th></th>\n",
       "      <th>word</th>\n",
       "      <th>count</th>\n",
       "    </tr>\n",
       "  </thead>\n",
       "  <tbody>\n",
       "    <tr>\n",
       "      <th>0</th>\n",
       "      <td>and</td>\n",
       "      <td>20021</td>\n",
       "    </tr>\n",
       "    <tr>\n",
       "      <th>1</th>\n",
       "      <td>the</td>\n",
       "      <td>11732</td>\n",
       "    </tr>\n",
       "    <tr>\n",
       "      <th>2</th>\n",
       "      <td>I</td>\n",
       "      <td>11148</td>\n",
       "    </tr>\n",
       "    <tr>\n",
       "      <th>3</th>\n",
       "      <td>he</td>\n",
       "      <td>8826</td>\n",
       "    </tr>\n",
       "    <tr>\n",
       "      <th>4</th>\n",
       "      <td>to</td>\n",
       "      <td>7271</td>\n",
       "    </tr>\n",
       "    <tr>\n",
       "      <th>5</th>\n",
       "      <td>that</td>\n",
       "      <td>6085</td>\n",
       "    </tr>\n",
       "    <tr>\n",
       "      <th>6</th>\n",
       "      <td>'s</td>\n",
       "      <td>5918</td>\n",
       "    </tr>\n",
       "    <tr>\n",
       "      <th>7</th>\n",
       "      <td>says</td>\n",
       "      <td>5698</td>\n",
       "    </tr>\n",
       "    <tr>\n",
       "      <th>8</th>\n",
       "      <td>it</td>\n",
       "      <td>5450</td>\n",
       "    </tr>\n",
       "    <tr>\n",
       "      <th>9</th>\n",
       "      <td>a</td>\n",
       "      <td>5283</td>\n",
       "    </tr>\n",
       "  </tbody>\n",
       "</table>\n",
       "</div>"
      ],
      "text/plain": [
       "   word  count\n",
       "0   and  20021\n",
       "1   the  11732\n",
       "2     I  11148\n",
       "3    he   8826\n",
       "4    to   7271\n",
       "5  that   6085\n",
       "6    's   5918\n",
       "7  says   5698\n",
       "8    it   5450\n",
       "9     a   5283"
      ]
     },
     "execution_count": 9,
     "metadata": {},
     "output_type": "execute_result"
    }
   ],
   "source": [
    "septology_df.head(10)"
   ]
  },
  {
   "cell_type": "markdown",
   "id": "65665516",
   "metadata": {},
   "source": [
    "### Number of Single-Use Words"
   ]
  },
  {
   "cell_type": "code",
   "execution_count": 10,
   "id": "88d807f5",
   "metadata": {
    "ExecuteTime": {
     "end_time": "2022-01-04T01:24:54.456391Z",
     "start_time": "2022-01-04T01:24:54.451854Z"
    }
   },
   "outputs": [
    {
     "data": {
      "text/plain": [
       "2399"
      ]
     },
     "execution_count": 10,
     "metadata": {},
     "output_type": "execute_result"
    }
   ],
   "source": [
    "(septology_df[\"count\"] == 1).sum()"
   ]
  },
  {
   "cell_type": "markdown",
   "id": "b70ed659",
   "metadata": {},
   "source": [
    "## Lemma Counts"
   ]
  },
  {
   "cell_type": "code",
   "execution_count": 11,
   "id": "fb5f142a",
   "metadata": {
    "ExecuteTime": {
     "end_time": "2022-01-04T01:24:58.507584Z",
     "start_time": "2022-01-04T01:24:58.363803Z"
    }
   },
   "outputs": [],
   "source": [
    "septology_lemmas = [token.lemma_ for token in septology_doc if not token.is_punct]\n",
    "septology_lemma_freq = Counter(septology_lemmas)"
   ]
  },
  {
   "cell_type": "code",
   "execution_count": 13,
   "id": "b32b19d5",
   "metadata": {
    "ExecuteTime": {
     "end_time": "2022-01-04T01:25:07.142001Z",
     "start_time": "2022-01-04T01:25:07.124762Z"
    }
   },
   "outputs": [],
   "source": [
    "septology_lemma_df = pd.DataFrame.from_dict(\n",
    "    septology_lemma_freq, orient=\"index\"\n",
    ").reset_index()\n",
    "septology_lemma_df.columns = [\"lemma\", \"count\"]\n",
    "septology_lemma_df = septology_lemma_df.sort_values(\n",
    "    \"count\", ascending=False\n",
    ").reset_index(drop=True)\n",
    "septology_lemma_df.to_csv(\"./output/septology_lemmas.csv\", index=False)"
   ]
  },
  {
   "cell_type": "markdown",
   "id": "ce7742c2",
   "metadata": {},
   "source": [
    "### Total Unique Lemmas"
   ]
  },
  {
   "cell_type": "code",
   "execution_count": 27,
   "id": "faf862a2",
   "metadata": {
    "ExecuteTime": {
     "end_time": "2022-01-04T01:35:43.132860Z",
     "start_time": "2022-01-04T01:35:43.128570Z"
    }
   },
   "outputs": [
    {
     "data": {
      "text/plain": [
       "4908"
      ]
     },
     "execution_count": 27,
     "metadata": {},
     "output_type": "execute_result"
    }
   ],
   "source": [
    "septology_lemma_df.shape[0]"
   ]
  },
  {
   "cell_type": "markdown",
   "id": "cf950b46",
   "metadata": {},
   "source": [
    "### Top 10 Unique Lemmas"
   ]
  },
  {
   "cell_type": "code",
   "execution_count": 14,
   "id": "7c26db7f",
   "metadata": {
    "ExecuteTime": {
     "end_time": "2022-01-04T01:25:13.675822Z",
     "start_time": "2022-01-04T01:25:13.668542Z"
    }
   },
   "outputs": [
    {
     "data": {
      "text/html": [
       "<div>\n",
       "<style scoped>\n",
       "    .dataframe tbody tr th:only-of-type {\n",
       "        vertical-align: middle;\n",
       "    }\n",
       "\n",
       "    .dataframe tbody tr th {\n",
       "        vertical-align: top;\n",
       "    }\n",
       "\n",
       "    .dataframe thead th {\n",
       "        text-align: right;\n",
       "    }\n",
       "</style>\n",
       "<table border=\"1\" class=\"dataframe\">\n",
       "  <thead>\n",
       "    <tr style=\"text-align: right;\">\n",
       "      <th></th>\n",
       "      <th>lemma</th>\n",
       "      <th>count</th>\n",
       "    </tr>\n",
       "  </thead>\n",
       "  <tbody>\n",
       "    <tr>\n",
       "      <th>0</th>\n",
       "      <td>and</td>\n",
       "      <td>20241</td>\n",
       "    </tr>\n",
       "    <tr>\n",
       "      <th>1</th>\n",
       "      <td>the</td>\n",
       "      <td>14221</td>\n",
       "    </tr>\n",
       "    <tr>\n",
       "      <th>2</th>\n",
       "      <td>be</td>\n",
       "      <td>13039</td>\n",
       "    </tr>\n",
       "    <tr>\n",
       "      <th>3</th>\n",
       "      <td>I</td>\n",
       "      <td>12121</td>\n",
       "    </tr>\n",
       "    <tr>\n",
       "      <th>4</th>\n",
       "      <td>he</td>\n",
       "      <td>10184</td>\n",
       "    </tr>\n",
       "    <tr>\n",
       "      <th>5</th>\n",
       "      <td>say</td>\n",
       "      <td>8002</td>\n",
       "    </tr>\n",
       "    <tr>\n",
       "      <th>6</th>\n",
       "      <td>to</td>\n",
       "      <td>7283</td>\n",
       "    </tr>\n",
       "    <tr>\n",
       "      <th>7</th>\n",
       "      <td>that</td>\n",
       "      <td>6174</td>\n",
       "    </tr>\n",
       "    <tr>\n",
       "      <th>8</th>\n",
       "      <td>it</td>\n",
       "      <td>5604</td>\n",
       "    </tr>\n",
       "    <tr>\n",
       "      <th>9</th>\n",
       "      <td>a</td>\n",
       "      <td>5317</td>\n",
       "    </tr>\n",
       "  </tbody>\n",
       "</table>\n",
       "</div>"
      ],
      "text/plain": [
       "  lemma  count\n",
       "0   and  20241\n",
       "1   the  14221\n",
       "2    be  13039\n",
       "3     I  12121\n",
       "4    he  10184\n",
       "5   say   8002\n",
       "6    to   7283\n",
       "7  that   6174\n",
       "8    it   5604\n",
       "9     a   5317"
      ]
     },
     "execution_count": 14,
     "metadata": {},
     "output_type": "execute_result"
    }
   ],
   "source": [
    "septology_lemma_df.head(10)"
   ]
  },
  {
   "cell_type": "markdown",
   "id": "303b5ab7",
   "metadata": {},
   "source": [
    "### Number of Single-Use Lemmas"
   ]
  },
  {
   "cell_type": "code",
   "execution_count": 15,
   "id": "d4344422",
   "metadata": {
    "ExecuteTime": {
     "end_time": "2022-01-04T01:25:34.442011Z",
     "start_time": "2022-01-04T01:25:34.436936Z"
    }
   },
   "outputs": [
    {
     "data": {
      "text/plain": [
       "1730"
      ]
     },
     "execution_count": 15,
     "metadata": {},
     "output_type": "execute_result"
    }
   ],
   "source": [
    "(septology_lemma_df[\"count\"] == 1).sum()"
   ]
  },
  {
   "cell_type": "markdown",
   "id": "90e9eb24",
   "metadata": {},
   "source": [
    "# East of Eden: John Steinbeck"
   ]
  },
  {
   "cell_type": "markdown",
   "id": "af2829fb",
   "metadata": {},
   "source": [
    "## Raw Word Count"
   ]
  },
  {
   "cell_type": "code",
   "execution_count": 16,
   "id": "5f1157c9",
   "metadata": {
    "ExecuteTime": {
     "end_time": "2022-01-04T01:25:40.736598Z",
     "start_time": "2022-01-04T01:25:40.701487Z"
    }
   },
   "outputs": [],
   "source": [
    "with open(\"./input/East_of_Eden.txt\", \"r\", encoding=\"utf-8\") as f:\n",
    "    east = f.read()\n",
    "    east = \" \".join(east.split())"
   ]
  },
  {
   "cell_type": "code",
   "execution_count": 18,
   "id": "ee033496",
   "metadata": {
    "ExecuteTime": {
     "end_time": "2022-01-04T01:32:04.092902Z",
     "start_time": "2022-01-04T01:29:49.314740Z"
    }
   },
   "outputs": [],
   "source": [
    "east_doc = nlp(east)\n",
    "east_words = [token.text for token in east_doc if not token.is_punct]\n",
    "east_word_freq = Counter(east_words)"
   ]
  },
  {
   "cell_type": "code",
   "execution_count": 19,
   "id": "b6ff613a",
   "metadata": {
    "ExecuteTime": {
     "end_time": "2022-01-04T01:32:57.678018Z",
     "start_time": "2022-01-04T01:32:57.645125Z"
    }
   },
   "outputs": [],
   "source": [
    "east_df = pd.DataFrame.from_dict(east_word_freq, orient=\"index\").reset_index()\n",
    "east_df.columns = [\"word\", \"count\"]\n",
    "east_df = east_df.sort_values(\"count\", ascending=False).reset_index(drop=True)\n",
    "east_df.to_csv(\"./output/east_words.csv\", index=False)"
   ]
  },
  {
   "cell_type": "markdown",
   "id": "ddbb2439",
   "metadata": {},
   "source": [
    "### Total Unique Words"
   ]
  },
  {
   "cell_type": "code",
   "execution_count": 28,
   "id": "a7a219c1",
   "metadata": {
    "ExecuteTime": {
     "end_time": "2022-01-04T01:36:06.581263Z",
     "start_time": "2022-01-04T01:36:06.577223Z"
    }
   },
   "outputs": [
    {
     "data": {
      "text/plain": [
       "12744"
      ]
     },
     "execution_count": 28,
     "metadata": {},
     "output_type": "execute_result"
    }
   ],
   "source": [
    "east_df.shape[0]"
   ]
  },
  {
   "cell_type": "markdown",
   "id": "801300a7",
   "metadata": {},
   "source": [
    "### Top 10 Unique Words"
   ]
  },
  {
   "cell_type": "code",
   "execution_count": 20,
   "id": "0b6bce9e",
   "metadata": {
    "ExecuteTime": {
     "end_time": "2022-01-04T01:33:03.238053Z",
     "start_time": "2022-01-04T01:33:03.230762Z"
    }
   },
   "outputs": [
    {
     "data": {
      "text/html": [
       "<div>\n",
       "<style scoped>\n",
       "    .dataframe tbody tr th:only-of-type {\n",
       "        vertical-align: middle;\n",
       "    }\n",
       "\n",
       "    .dataframe tbody tr th {\n",
       "        vertical-align: top;\n",
       "    }\n",
       "\n",
       "    .dataframe thead th {\n",
       "        text-align: right;\n",
       "    }\n",
       "</style>\n",
       "<table border=\"1\" class=\"dataframe\">\n",
       "  <thead>\n",
       "    <tr style=\"text-align: right;\">\n",
       "      <th></th>\n",
       "      <th>word</th>\n",
       "      <th>count</th>\n",
       "    </tr>\n",
       "  </thead>\n",
       "  <tbody>\n",
       "    <tr>\n",
       "      <th>0</th>\n",
       "      <td>the</td>\n",
       "      <td>9471</td>\n",
       "    </tr>\n",
       "    <tr>\n",
       "      <th>1</th>\n",
       "      <td>and</td>\n",
       "      <td>7601</td>\n",
       "    </tr>\n",
       "    <tr>\n",
       "      <th>2</th>\n",
       "      <td>to</td>\n",
       "      <td>5662</td>\n",
       "    </tr>\n",
       "    <tr>\n",
       "      <th>3</th>\n",
       "      <td>a</td>\n",
       "      <td>5577</td>\n",
       "    </tr>\n",
       "    <tr>\n",
       "      <th>4</th>\n",
       "      <td>I</td>\n",
       "      <td>5178</td>\n",
       "    </tr>\n",
       "    <tr>\n",
       "      <th>5</th>\n",
       "      <td>of</td>\n",
       "      <td>3929</td>\n",
       "    </tr>\n",
       "    <tr>\n",
       "      <th>6</th>\n",
       "      <td>you</td>\n",
       "      <td>3569</td>\n",
       "    </tr>\n",
       "    <tr>\n",
       "      <th>7</th>\n",
       "      <td>it</td>\n",
       "      <td>3267</td>\n",
       "    </tr>\n",
       "    <tr>\n",
       "      <th>8</th>\n",
       "      <td>was</td>\n",
       "      <td>3171</td>\n",
       "    </tr>\n",
       "    <tr>\n",
       "      <th>9</th>\n",
       "      <td>in</td>\n",
       "      <td>3158</td>\n",
       "    </tr>\n",
       "  </tbody>\n",
       "</table>\n",
       "</div>"
      ],
      "text/plain": [
       "  word  count\n",
       "0  the   9471\n",
       "1  and   7601\n",
       "2   to   5662\n",
       "3    a   5577\n",
       "4    I   5178\n",
       "5   of   3929\n",
       "6  you   3569\n",
       "7   it   3267\n",
       "8  was   3171\n",
       "9   in   3158"
      ]
     },
     "execution_count": 20,
     "metadata": {},
     "output_type": "execute_result"
    }
   ],
   "source": [
    "east_df.head(10)"
   ]
  },
  {
   "cell_type": "markdown",
   "id": "5aa62b2f",
   "metadata": {},
   "source": [
    "### Number of Single-Use Words"
   ]
  },
  {
   "cell_type": "code",
   "execution_count": 21,
   "id": "a15e53da",
   "metadata": {
    "ExecuteTime": {
     "end_time": "2022-01-04T01:33:12.634153Z",
     "start_time": "2022-01-04T01:33:12.629203Z"
    }
   },
   "outputs": [
    {
     "data": {
      "text/plain": [
       "5654"
      ]
     },
     "execution_count": 21,
     "metadata": {},
     "output_type": "execute_result"
    }
   ],
   "source": [
    "(east_df[\"count\"] == 1).sum()"
   ]
  },
  {
   "cell_type": "markdown",
   "id": "6af34f68",
   "metadata": {},
   "source": [
    "## Lemma Counts"
   ]
  },
  {
   "cell_type": "code",
   "execution_count": 22,
   "id": "37b7661a",
   "metadata": {
    "ExecuteTime": {
     "end_time": "2022-01-04T01:34:17.923239Z",
     "start_time": "2022-01-04T01:34:17.791223Z"
    }
   },
   "outputs": [],
   "source": [
    "east_lemmas = [token.lemma_ for token in east_doc if not token.is_punct]\n",
    "east_lemma_freq = Counter(east_lemmas)"
   ]
  },
  {
   "cell_type": "code",
   "execution_count": 23,
   "id": "00a56b6b",
   "metadata": {
    "ExecuteTime": {
     "end_time": "2022-01-04T01:34:19.448870Z",
     "start_time": "2022-01-04T01:34:19.423795Z"
    }
   },
   "outputs": [],
   "source": [
    "east_lemma_df = pd.DataFrame.from_dict(east_lemma_freq, orient=\"index\").reset_index()\n",
    "east_lemma_df.columns = [\"lemma\", \"count\"]\n",
    "east_lemma_df = east_lemma_df.sort_values(\"count\", ascending=False).reset_index(\n",
    "    drop=True\n",
    ")\n",
    "east_lemma_df.to_csv(\"./output/east_lemmas.csv\", index=False)"
   ]
  },
  {
   "cell_type": "markdown",
   "id": "adba2702",
   "metadata": {},
   "source": [
    "### Total Unique Lemmas"
   ]
  },
  {
   "cell_type": "code",
   "execution_count": 29,
   "id": "16cc27f8",
   "metadata": {
    "ExecuteTime": {
     "end_time": "2022-01-04T01:36:30.630593Z",
     "start_time": "2022-01-04T01:36:30.626349Z"
    }
   },
   "outputs": [
    {
     "data": {
      "text/plain": [
       "9312"
      ]
     },
     "execution_count": 29,
     "metadata": {},
     "output_type": "execute_result"
    }
   ],
   "source": [
    "east_lemma_df.shape[0]"
   ]
  },
  {
   "cell_type": "markdown",
   "id": "7c92deea",
   "metadata": {},
   "source": [
    "### Top 10 Unique Lemmas"
   ]
  },
  {
   "cell_type": "code",
   "execution_count": 24,
   "id": "c9559403",
   "metadata": {
    "ExecuteTime": {
     "end_time": "2022-01-04T01:34:24.393772Z",
     "start_time": "2022-01-04T01:34:24.386607Z"
    }
   },
   "outputs": [
    {
     "data": {
      "text/html": [
       "<div>\n",
       "<style scoped>\n",
       "    .dataframe tbody tr th:only-of-type {\n",
       "        vertical-align: middle;\n",
       "    }\n",
       "\n",
       "    .dataframe tbody tr th {\n",
       "        vertical-align: top;\n",
       "    }\n",
       "\n",
       "    .dataframe thead th {\n",
       "        text-align: right;\n",
       "    }\n",
       "</style>\n",
       "<table border=\"1\" class=\"dataframe\">\n",
       "  <thead>\n",
       "    <tr style=\"text-align: right;\">\n",
       "      <th></th>\n",
       "      <th>lemma</th>\n",
       "      <th>count</th>\n",
       "    </tr>\n",
       "  </thead>\n",
       "  <tbody>\n",
       "    <tr>\n",
       "      <th>0</th>\n",
       "      <td>the</td>\n",
       "      <td>10480</td>\n",
       "    </tr>\n",
       "    <tr>\n",
       "      <th>1</th>\n",
       "      <td>be</td>\n",
       "      <td>9205</td>\n",
       "    </tr>\n",
       "    <tr>\n",
       "      <th>2</th>\n",
       "      <td>and</td>\n",
       "      <td>8503</td>\n",
       "    </tr>\n",
       "    <tr>\n",
       "      <th>3</th>\n",
       "      <td>he</td>\n",
       "      <td>6358</td>\n",
       "    </tr>\n",
       "    <tr>\n",
       "      <th>4</th>\n",
       "      <td>I</td>\n",
       "      <td>6140</td>\n",
       "    </tr>\n",
       "    <tr>\n",
       "      <th>5</th>\n",
       "      <td>a</td>\n",
       "      <td>5796</td>\n",
       "    </tr>\n",
       "    <tr>\n",
       "      <th>6</th>\n",
       "      <td>to</td>\n",
       "      <td>5711</td>\n",
       "    </tr>\n",
       "    <tr>\n",
       "      <th>7</th>\n",
       "      <td>you</td>\n",
       "      <td>4563</td>\n",
       "    </tr>\n",
       "    <tr>\n",
       "      <th>8</th>\n",
       "      <td>it</td>\n",
       "      <td>4124</td>\n",
       "    </tr>\n",
       "    <tr>\n",
       "      <th>9</th>\n",
       "      <td>not</td>\n",
       "      <td>4002</td>\n",
       "    </tr>\n",
       "  </tbody>\n",
       "</table>\n",
       "</div>"
      ],
      "text/plain": [
       "  lemma  count\n",
       "0   the  10480\n",
       "1    be   9205\n",
       "2   and   8503\n",
       "3    he   6358\n",
       "4     I   6140\n",
       "5     a   5796\n",
       "6    to   5711\n",
       "7   you   4563\n",
       "8    it   4124\n",
       "9   not   4002"
      ]
     },
     "execution_count": 24,
     "metadata": {},
     "output_type": "execute_result"
    }
   ],
   "source": [
    "east_lemma_df.head(10)"
   ]
  },
  {
   "cell_type": "markdown",
   "id": "29375cfc",
   "metadata": {},
   "source": [
    "### Number of Single-Use Lemmas"
   ]
  },
  {
   "cell_type": "code",
   "execution_count": 25,
   "id": "df2abd98",
   "metadata": {
    "ExecuteTime": {
     "end_time": "2022-01-04T01:34:40.684273Z",
     "start_time": "2022-01-04T01:34:40.679554Z"
    }
   },
   "outputs": [
    {
     "data": {
      "text/plain": [
       "3956"
      ]
     },
     "execution_count": 25,
     "metadata": {},
     "output_type": "execute_result"
    }
   ],
   "source": [
    "(east_lemma_df[\"count\"] == 1).sum()"
   ]
  },
  {
   "cell_type": "markdown",
   "id": "81539e0e",
   "metadata": {},
   "source": [
    "# Ulysses: James Joycee"
   ]
  },
  {
   "cell_type": "markdown",
   "id": "0a1edbfb",
   "metadata": {},
   "source": [
    "## Raw Word Count"
   ]
  },
  {
   "cell_type": "code",
   "execution_count": 30,
   "id": "5f36be11",
   "metadata": {
    "ExecuteTime": {
     "end_time": "2022-01-04T01:37:53.579340Z",
     "start_time": "2022-01-04T01:37:53.524100Z"
    }
   },
   "outputs": [],
   "source": [
    "with open(\"./input/Ulysses.txt\", \"r\", encoding=\"utf-8\") as f:\n",
    "    ulysses = f.read()\n",
    "    ulysses = \" \".join(ulysses.split())"
   ]
  },
  {
   "cell_type": "code",
   "execution_count": 31,
   "id": "ec9757cd",
   "metadata": {
    "ExecuteTime": {
     "end_time": "2022-01-04T01:41:28.317230Z",
     "start_time": "2022-01-04T01:38:39.509305Z"
    }
   },
   "outputs": [],
   "source": [
    "ulysses_doc = nlp(ulysses)\n",
    "ulysses_words = [token.text for token in ulysses_doc if not token.is_punct]\n",
    "ulysses_word_freq = Counter(ulysses_words)"
   ]
  },
  {
   "cell_type": "code",
   "execution_count": 32,
   "id": "ee1120a9",
   "metadata": {
    "ExecuteTime": {
     "end_time": "2022-01-04T01:42:07.766126Z",
     "start_time": "2022-01-04T01:42:07.692012Z"
    }
   },
   "outputs": [],
   "source": [
    "ulysses_df = pd.DataFrame.from_dict(ulysses_word_freq, orient=\"index\").reset_index()\n",
    "ulysses_df.columns = [\"word\", \"count\"]\n",
    "ulysses_df = ulysses_df.sort_values(\"count\", ascending=False).reset_index(drop=True)\n",
    "ulysses_df.to_csv(\"./output/ulysses_words.csv\", index=False)"
   ]
  },
  {
   "cell_type": "markdown",
   "id": "f3f281a0",
   "metadata": {},
   "source": [
    "### Total Unique Words"
   ]
  },
  {
   "cell_type": "code",
   "execution_count": 33,
   "id": "a755e4ce",
   "metadata": {
    "ExecuteTime": {
     "end_time": "2022-01-04T01:42:20.061972Z",
     "start_time": "2022-01-04T01:42:20.057862Z"
    }
   },
   "outputs": [
    {
     "data": {
      "text/plain": [
       "33732"
      ]
     },
     "execution_count": 33,
     "metadata": {},
     "output_type": "execute_result"
    }
   ],
   "source": [
    "ulysses_df.shape[0]"
   ]
  },
  {
   "cell_type": "markdown",
   "id": "595c620e",
   "metadata": {},
   "source": [
    "### Top 10 Unique Words"
   ]
  },
  {
   "cell_type": "code",
   "execution_count": 34,
   "id": "97977a59",
   "metadata": {
    "ExecuteTime": {
     "end_time": "2022-01-04T01:42:28.596391Z",
     "start_time": "2022-01-04T01:42:28.589517Z"
    }
   },
   "outputs": [
    {
     "data": {
      "text/html": [
       "<div>\n",
       "<style scoped>\n",
       "    .dataframe tbody tr th:only-of-type {\n",
       "        vertical-align: middle;\n",
       "    }\n",
       "\n",
       "    .dataframe tbody tr th {\n",
       "        vertical-align: top;\n",
       "    }\n",
       "\n",
       "    .dataframe thead th {\n",
       "        text-align: right;\n",
       "    }\n",
       "</style>\n",
       "<table border=\"1\" class=\"dataframe\">\n",
       "  <thead>\n",
       "    <tr style=\"text-align: right;\">\n",
       "      <th></th>\n",
       "      <th>word</th>\n",
       "      <th>count</th>\n",
       "    </tr>\n",
       "  </thead>\n",
       "  <tbody>\n",
       "    <tr>\n",
       "      <th>0</th>\n",
       "      <td>the</td>\n",
       "      <td>13524</td>\n",
       "    </tr>\n",
       "    <tr>\n",
       "      <th>1</th>\n",
       "      <td>of</td>\n",
       "      <td>8062</td>\n",
       "    </tr>\n",
       "    <tr>\n",
       "      <th>2</th>\n",
       "      <td>and</td>\n",
       "      <td>6627</td>\n",
       "    </tr>\n",
       "    <tr>\n",
       "      <th>3</th>\n",
       "      <td>a</td>\n",
       "      <td>5823</td>\n",
       "    </tr>\n",
       "    <tr>\n",
       "      <th>4</th>\n",
       "      <td>to</td>\n",
       "      <td>4798</td>\n",
       "    </tr>\n",
       "    <tr>\n",
       "      <th>5</th>\n",
       "      <td>in</td>\n",
       "      <td>4687</td>\n",
       "    </tr>\n",
       "    <tr>\n",
       "      <th>6</th>\n",
       "      <td>his</td>\n",
       "      <td>3063</td>\n",
       "    </tr>\n",
       "    <tr>\n",
       "      <th>7</th>\n",
       "      <td>he</td>\n",
       "      <td>3060</td>\n",
       "    </tr>\n",
       "    <tr>\n",
       "      <th>8</th>\n",
       "      <td>I</td>\n",
       "      <td>3002</td>\n",
       "    </tr>\n",
       "    <tr>\n",
       "      <th>9</th>\n",
       "      <td>’s</td>\n",
       "      <td>2678</td>\n",
       "    </tr>\n",
       "  </tbody>\n",
       "</table>\n",
       "</div>"
      ],
      "text/plain": [
       "  word  count\n",
       "0  the  13524\n",
       "1   of   8062\n",
       "2  and   6627\n",
       "3    a   5823\n",
       "4   to   4798\n",
       "5   in   4687\n",
       "6  his   3063\n",
       "7   he   3060\n",
       "8    I   3002\n",
       "9   ’s   2678"
      ]
     },
     "execution_count": 34,
     "metadata": {},
     "output_type": "execute_result"
    }
   ],
   "source": [
    "ulysses_df.head(10)"
   ]
  },
  {
   "cell_type": "markdown",
   "id": "3f7fb578",
   "metadata": {},
   "source": [
    "### Number of Single-Use Words"
   ]
  },
  {
   "cell_type": "code",
   "execution_count": 35,
   "id": "b772d4da",
   "metadata": {
    "ExecuteTime": {
     "end_time": "2022-01-04T01:42:39.612634Z",
     "start_time": "2022-01-04T01:42:39.608027Z"
    }
   },
   "outputs": [
    {
     "data": {
      "text/plain": [
       "19206"
      ]
     },
     "execution_count": 35,
     "metadata": {},
     "output_type": "execute_result"
    }
   ],
   "source": [
    "(ulysses_df[\"count\"] == 1).sum()"
   ]
  },
  {
   "cell_type": "markdown",
   "id": "cd3a38fc",
   "metadata": {},
   "source": [
    "## Lemma Counts"
   ]
  },
  {
   "cell_type": "code",
   "execution_count": 36,
   "id": "33dc86b0",
   "metadata": {
    "ExecuteTime": {
     "end_time": "2022-01-04T01:43:01.698774Z",
     "start_time": "2022-01-04T01:43:01.506958Z"
    }
   },
   "outputs": [],
   "source": [
    "ulysses_lemmas = [token.lemma_ for token in ulysses_doc if not token.is_punct]\n",
    "ulysses_lemma_freq = Counter(ulysses_lemmas)"
   ]
  },
  {
   "cell_type": "code",
   "execution_count": 38,
   "id": "0fd6422e",
   "metadata": {
    "ExecuteTime": {
     "end_time": "2022-01-04T01:43:45.564383Z",
     "start_time": "2022-01-04T01:43:45.498504Z"
    }
   },
   "outputs": [],
   "source": [
    "ulysses_lemma_df = pd.DataFrame.from_dict(\n",
    "    ulysses_lemma_freq, orient=\"index\"\n",
    ").reset_index()\n",
    "ulysses_lemma_df.columns = [\"lemma\", \"count\"]\n",
    "ulysses_lemma_df = ulysses_lemma_df.sort_values(\"count\", ascending=False).reset_index(\n",
    "    drop=True\n",
    ")\n",
    "ulysses_lemma_df.to_csv(\"./output/ulysses_lemmas.csv\", index=False)"
   ]
  },
  {
   "cell_type": "markdown",
   "id": "87f9bf64",
   "metadata": {},
   "source": [
    "### Total Unique Lemmas"
   ]
  },
  {
   "cell_type": "code",
   "execution_count": 39,
   "id": "82cce2b2",
   "metadata": {
    "ExecuteTime": {
     "end_time": "2022-01-04T01:43:52.048040Z",
     "start_time": "2022-01-04T01:43:52.043919Z"
    }
   },
   "outputs": [
    {
     "data": {
      "text/plain": [
       "26590"
      ]
     },
     "execution_count": 39,
     "metadata": {},
     "output_type": "execute_result"
    }
   ],
   "source": [
    "ulysses_lemma_df.shape[0]"
   ]
  },
  {
   "cell_type": "markdown",
   "id": "9d0c3f40",
   "metadata": {},
   "source": [
    "### Top 10 Unique Lemmas"
   ]
  },
  {
   "cell_type": "code",
   "execution_count": 40,
   "id": "09c87ebb",
   "metadata": {
    "ExecuteTime": {
     "end_time": "2022-01-04T01:44:00.062707Z",
     "start_time": "2022-01-04T01:44:00.055991Z"
    }
   },
   "outputs": [
    {
     "data": {
      "text/html": [
       "<div>\n",
       "<style scoped>\n",
       "    .dataframe tbody tr th:only-of-type {\n",
       "        vertical-align: middle;\n",
       "    }\n",
       "\n",
       "    .dataframe tbody tr th {\n",
       "        vertical-align: top;\n",
       "    }\n",
       "\n",
       "    .dataframe thead th {\n",
       "        text-align: right;\n",
       "    }\n",
       "</style>\n",
       "<table border=\"1\" class=\"dataframe\">\n",
       "  <thead>\n",
       "    <tr style=\"text-align: right;\">\n",
       "      <th></th>\n",
       "      <th>lemma</th>\n",
       "      <th>count</th>\n",
       "    </tr>\n",
       "  </thead>\n",
       "  <tbody>\n",
       "    <tr>\n",
       "      <th>0</th>\n",
       "      <td>the</td>\n",
       "      <td>14953</td>\n",
       "    </tr>\n",
       "    <tr>\n",
       "      <th>1</th>\n",
       "      <td>of</td>\n",
       "      <td>8144</td>\n",
       "    </tr>\n",
       "    <tr>\n",
       "      <th>2</th>\n",
       "      <td>and</td>\n",
       "      <td>7215</td>\n",
       "    </tr>\n",
       "    <tr>\n",
       "      <th>3</th>\n",
       "      <td>a</td>\n",
       "      <td>6461</td>\n",
       "    </tr>\n",
       "    <tr>\n",
       "      <th>4</th>\n",
       "      <td>be</td>\n",
       "      <td>6116</td>\n",
       "    </tr>\n",
       "    <tr>\n",
       "      <th>5</th>\n",
       "      <td>he</td>\n",
       "      <td>5839</td>\n",
       "    </tr>\n",
       "    <tr>\n",
       "      <th>6</th>\n",
       "      <td>to</td>\n",
       "      <td>4958</td>\n",
       "    </tr>\n",
       "    <tr>\n",
       "      <th>7</th>\n",
       "      <td>in</td>\n",
       "      <td>4947</td>\n",
       "    </tr>\n",
       "    <tr>\n",
       "      <th>8</th>\n",
       "      <td>I</td>\n",
       "      <td>3937</td>\n",
       "    </tr>\n",
       "    <tr>\n",
       "      <th>9</th>\n",
       "      <td>his</td>\n",
       "      <td>3330</td>\n",
       "    </tr>\n",
       "  </tbody>\n",
       "</table>\n",
       "</div>"
      ],
      "text/plain": [
       "  lemma  count\n",
       "0   the  14953\n",
       "1    of   8144\n",
       "2   and   7215\n",
       "3     a   6461\n",
       "4    be   6116\n",
       "5    he   5839\n",
       "6    to   4958\n",
       "7    in   4947\n",
       "8     I   3937\n",
       "9   his   3330"
      ]
     },
     "execution_count": 40,
     "metadata": {},
     "output_type": "execute_result"
    }
   ],
   "source": [
    "ulysses_lemma_df.head(10)"
   ]
  },
  {
   "cell_type": "markdown",
   "id": "bf69f003",
   "metadata": {},
   "source": [
    "### Number of Single-Use Lemmas"
   ]
  },
  {
   "cell_type": "code",
   "execution_count": 41,
   "id": "372e3755",
   "metadata": {
    "ExecuteTime": {
     "end_time": "2022-01-04T01:44:07.056842Z",
     "start_time": "2022-01-04T01:44:07.051478Z"
    }
   },
   "outputs": [
    {
     "data": {
      "text/plain": [
       "14928"
      ]
     },
     "execution_count": 41,
     "metadata": {},
     "output_type": "execute_result"
    }
   ],
   "source": [
    "(ulysses_lemma_df[\"count\"] == 1).sum()"
   ]
  }
 ],
 "metadata": {
  "kernelspec": {
   "display_name": "Python [conda env:booknlp]",
   "language": "python",
   "name": "conda-env-booknlp-py"
  },
  "language_info": {
   "codemirror_mode": {
    "name": "ipython",
    "version": 3
   },
   "file_extension": ".py",
   "mimetype": "text/x-python",
   "name": "python",
   "nbconvert_exporter": "python",
   "pygments_lexer": "ipython3",
   "version": "3.7.11"
  },
  "toc": {
   "base_numbering": 1,
   "nav_menu": {},
   "number_sections": true,
   "sideBar": true,
   "skip_h1_title": false,
   "title_cell": "Table of Contents",
   "title_sidebar": "Contents",
   "toc_cell": false,
   "toc_position": {},
   "toc_section_display": true,
   "toc_window_display": false
  },
  "varInspector": {
   "cols": {
    "lenName": 16,
    "lenType": 16,
    "lenVar": 40
   },
   "kernels_config": {
    "python": {
     "delete_cmd_postfix": "",
     "delete_cmd_prefix": "del ",
     "library": "var_list.py",
     "varRefreshCmd": "print(var_dic_list())"
    },
    "r": {
     "delete_cmd_postfix": ") ",
     "delete_cmd_prefix": "rm(",
     "library": "var_list.r",
     "varRefreshCmd": "cat(var_dic_list()) "
    }
   },
   "types_to_exclude": [
    "module",
    "function",
    "builtin_function_or_method",
    "instance",
    "_Feature"
   ],
   "window_display": false
  }
 },
 "nbformat": 4,
 "nbformat_minor": 5
}
